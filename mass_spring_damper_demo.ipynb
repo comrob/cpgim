{
 "cells": [
  {
   "cell_type": "markdown",
   "id": "f92e06a3",
   "metadata": {},
   "source": [
    "# Mass spring damper demo\n",
    "In this notebook we show how to model dynamic systems within the *dynsys_framework* and demonstrate the bootstrapping algorithm implemented in **Internal models with central pattern generator estimating and controlling gait dynamics**. The framework is demonstrated on [mass-spring-damper system](https://en.wikipedia.org/wiki/Mass-spring-damper_model) for which we must learn approximate model and infer the control policy.\n",
    "\n",
    "\n",
    "## Mass-Spring-Damper model\n",
    "Lets have an object of mass $m$ that moves on axis $x$. The object is linked to ground by string with stiffness $k$ and by damper with damper ratio $c$. The object is pushed by an external force $F_{external}$. This system is known as [mass-spring-damper](https://en.wikipedia.org/wiki/Mass-spring-damper_model) which is modelled with the following differential\n",
    "\n",
    "$-kx - c\\dot x + F_{external} = m\\ddot x$\n",
    "\n",
    "which we rewrite into first order differential\n",
    "\n",
    "$\n",
    "\\dot x = v\\\\ \n",
    "\\dot v = -\\frac{k}{m} x - \\frac{c}{m} v + u\n",
    "$\n",
    "\n",
    "where $u = \\frac{F_{external}}{m}$ is rescaled external force.\n",
    "\n",
    "We will now implement simulation of the mass-spring-damper."
   ]
  },
  {
   "cell_type": "code",
   "execution_count": 43,
   "id": "77ba3ab2",
   "metadata": {},
   "outputs": [],
   "source": [
    "# Libraries\n",
    "import os\n",
    "import numpy as np\n",
    "import matplotlib.pyplot as plt\n",
    "from dynsys_framework.execution_helpers.model_executor_parameters import ModelExecutorParameters\n",
    "from utils import experiment_helpers\n",
    "from utils import records\n"
   ]
  },
  {
   "cell_type": "code",
   "execution_count": 26,
   "id": "1169ecfd",
   "metadata": {},
   "outputs": [],
   "source": [
    "# Mass-Spring-Damper model\n",
    "\n",
    "\n",
    "def mass_spring_damper_d(xv, u, k_param=2, c_param=1, m_param=5):\n",
    "    xv_d = np.zeros((1,2))\n",
    "    xv_d[0, 0] = xv[0, 1]\n",
    "    xv_d[0, 1] = - (k_param/m_param) * xv[0, 0] - (c_param/m_param) * xv[0, 1] + u\n",
    "    return xv_d"
   ]
  },
  {
   "cell_type": "code",
   "execution_count": 32,
   "id": "b5b1e0e4",
   "metadata": {},
   "outputs": [
    {
     "data": {
      "image/png": "[encoded data removed]",
      "text/plain": [
       "<Figure size 432x288 with 1 Axes>"
      ]
     },
     "metadata": {
      "needs_background": "light"
     },
     "output_type": "display_data"
    }
   ],
   "source": [
    "# Euler's method for numerical integration\n",
    "step_size = 0.01\n",
    "xvs = [np.asarray([5, 0]).reshape((1,2))]\n",
    "ts = [0]\n",
    "for i in range(5000):\n",
    "    xvs.append(xvs[-1] + mass_spring_damper_d(xvs[-1], 0) * step_size)\n",
    "    ts.append(ts[-1] + step_size)   \n",
    "xvs = np.asarray(xvs)\n",
    "ts = np.asarray(ts)\n",
    "\n",
    "# plotting result    \n",
    "plt.plot(ts, xvs[:, 0, 0], label=\"x\")\n",
    "plt.plot(ts, xvs[:, 0, 1], label=\"v\")\n",
    "plt.xlabel(\"time\")\n",
    "plt.ylabel(\"position, velocity\")\n",
    "plt.title(\"Mass-Spring-Damper evolution\")\n",
    "plt.legend()\n",
    "plt.show()"
   ]
  },
  {
   "cell_type": "markdown",
   "id": "0cc23696",
   "metadata": {},
   "source": [
    "### DynSys Framework implementation\n",
    "The above implemented Euler's method works fine; however, for more complex systems with tens of variables, the implementation would become cumbersome and the code would be hard to manage. In the following code snippets we will show, how the numerical integration is specified within the *dynsys_framework*.\n"
   ]
  },
  {
   "cell_type": "code",
   "execution_count": 39,
   "id": "128c5e3f",
   "metadata": {},
   "outputs": [
    {
     "name": "stdout",
     "output_type": "stream",
     "text": [
      "iter: 0, t: 0, cmp_time: 0.00026226043701171875\n",
      "iter: 1000, t: 9.999999999999831, cmp_time: 0.05403923988342285\n",
      "iter: 2000, t: 20.000000000000327, cmp_time: 0.03785109519958496\n",
      "iter: 3000, t: 30.00000000000189, cmp_time: 0.0367131233215332\n",
      "iter: 4000, t: 40.00000000000061, cmp_time: 0.037439584732055664\n",
      "time: 0.20287156105041504\n"
     ]
    }
   ],
   "source": [
    "step_size = 0.01\n",
    "iterations = 5000\n",
    "results_path = \"results\"\n",
    "\n",
    "# 1. Creating the model composed of linearly growing time and the mass-spring-damper\n",
    "\n",
    "mep = ModelExecutorParameters() # Contains set of all involved variables and their functors/differentials \n",
    "\n",
    "# variable \"t\" : Time \n",
    "mep.add(\"d_t\", # name of the variable (with prefix \"d_\" because it is being numerically integrated)\n",
    "        (), # the differential needs no inputs\n",
    "        lambda: 1, # time grows proportionally to integration steps\n",
    "        default_initial_values={\"t\": 0} # time starts at 0\n",
    "       )\n",
    "\n",
    "# variable \"xv\": Mass-spring-damper state \n",
    "mep.add(\"d_xv\", # name of the variable\n",
    "        (\"xv\", \"u\"), # the differential needs state \"xv\" and external force \"u\"\n",
    "        mass_spring_damper_d, # function taking two inputs computing the differential \n",
    "        default_initial_values={\"xv\": np.asarray([5, 0]).reshape((1,2))} # initial state\n",
    "       )\n",
    "\n",
    "# variable \"u\": external force (is a constant zero)\n",
    "mep.add(\"u\", # name of the variable, note since it is not differential it has no \"d_\" prefix.\n",
    "        (), # no inputs needed\n",
    "        lambda: 0. # its value is always zero\n",
    "       )\n",
    "\n",
    "\n",
    "# 2. Execution initialization\n",
    "mod_exec = experiment_helpers.build_executor(mep, step_size)\n",
    "\n",
    "# 3. Running the model simulation which will be saved into \"results/msd_run.hdf5\"\n",
    "experiment_helpers.run_executor(mod_exec, iterations, results_path, \"msd_run\")"
   ]
  },
  {
   "cell_type": "code",
   "execution_count": 46,
   "id": "9fb7b73b",
   "metadata": {},
   "outputs": [
    {
     "name": "stdout",
     "output_type": "stream",
     "text": [
      "d_t:          (5000,)\n",
      "d_xv:          (5000, 1, 2)\n",
      "t:          (5000,)\n",
      "u:          (5000,)\n",
      "xv:          (5000, 1, 2)\n"
     ]
    }
   ],
   "source": [
    "# Reading the experiment results from \"results/msd_run.hdf5\"\n",
    "rec = records.load_records(os.path.join(results_path, \"msd_run.hdf5\"))[0]\n",
    "\n",
    "records.print_record_shapes(rec)\n",
    "# See that all variables and their derivations are stored in the hdf5 file\n",
    "# name          shape"
   ]
  },
  {
   "cell_type": "code",
   "execution_count": 45,
   "id": "05adc313",
   "metadata": {},
   "outputs": [
    {
     "data": {
      "image/png": "[encoded data removed]",
      "text/plain": [
       "<Figure size 432x288 with 1 Axes>"
      ]
     },
     "metadata": {
      "needs_background": "light"
     },
     "output_type": "display_data"
    }
   ],
   "source": [
    "# the recorded variables are accessed by their names (rec is a python dictionary)\n",
    "plt.plot(rec[\"t\"], rec[\"xv\"][:, 0, 0], label=\"x\")\n",
    "plt.plot(rec[\"t\"], rec[\"xv\"][:, 0, 1], label=\"v\")\n",
    "plt.xlabel(\"time\")\n",
    "plt.ylabel(\"position, velocity\")\n",
    "plt.title(\"Mass-Spring-Damper evolution - DynSys framework\")\n",
    "plt.legend()\n",
    "plt.show()"
   ]
  },
  {
   "cell_type": "markdown",
   "id": "6108feca",
   "metadata": {},
   "source": [
    "## Goal-oriented bootstrapping of forward models\n",
    "Lets say, that we have been given a repeating position trajectory $x^*(t)=x^*(t+T)$ which we want to observe on our mass-spring-damper $x^*(t) \\approx x(t)$. We are able to command the external force $u$ and observe its position $x$. However, **we don't know the dynamic relation between external force $u$ and the observed position $x$**. \n",
    "\n",
    "This is where the proposed algorithm comes in. It is able to explore unknown dynamics and synthesise periodic command signal (gait) that produces the desired behavior $x^*$."
   ]
  },
  {
   "cell_type": "code",
   "execution_count": 50,
   "id": "8d95b2f0",
   "metadata": {},
   "outputs": [],
   "source": [
    "import models.limit_cycle_controller_contextual as M\n",
    "\n",
    "\n",
    "step_size = 0.01\n",
    "iterations = 5000\n",
    "results_path = \"results\"\n",
    "\n",
    "granularity = 8\n",
    "\n",
    "mep = ModelExecutorParameters() # Contains set of all involved variables and their functors/differentials \n",
    "\n",
    "# MASS-SPRING-DAMPER\n",
    "# variable \"t\" : Time \n",
    "mep.add(\"d_t\", (), lambda: 1, default_initial_values={\"t\": 0})\n",
    "# variable \"xv\": Mass-spring-damper state \n",
    "mep.add(\"d_xv\", (\"xv\", \"u\"), mass_spring_damper_d, \n",
    "        default_initial_values={\"xv\": np.asarray([5, 0]).reshape((1,2))})\n",
    "# variable \"x_observed\": observed position (taken from the mass-spring-damper state)\n",
    "mep.add(\"x_observed\", \"xv\", lambda xv: xv[0, 0])\n",
    "\n",
    "# BOOTSTRAPPING CONTROLLER\n",
    "# The set of variables\n",
    "mep.add(\"u_regularization\", (), lambda: 0.)\n",
    "M.model(mep,\n",
    "          epicycle_size=64, phase_velocity=4.,\n",
    "          motor_dim=1, motor_segments_num=granularity,\n",
    "          sensory_dim=1, sensory_segments_num=granularity,\n",
    "          context_num=10,\n",
    "          model_quality_lower_bound=1e0, model_quality_upper_bound=1e1,\n",
    "          performance_quality_upper_bound=2e1,\n",
    "          perturbation_probability=0.01,\n",
    "          is_model_learned=True,\n",
    "          is_control_learned=True, \n",
    "          is_model_lr_external=True,\n",
    "          dynamic_outer_threshold=False,\n",
    "          regularization_name=\"u_regularization\"\n",
    "          )\n",
    "\n",
    "# COUPING THE BOOTSTRAPPING CONTROLLER WITH MASS-SPRING-DAMPER\n",
    "\n",
    "# targets setup # TODO\n",
    "mep.add(M.SENSORY_REFERENCE, \"y_goal_setup\", lambda y_goal: y_goal[:, :, :, :, 0])\n",
    "mep.add(M.SENSORY_REFERENCE_MASK, \"y_goal_setup\", lambda y_goal: y_goal[:, :, :, :, 1])\n",
    "mep.add(M.SENSORY_REFERENCE_MINMAX_MASK, \"y_goal_setup\", lambda y_goal: y_goal[:, :, :, :, 2])\n",
    "\n",
    "# sensory input\n",
    "mep.add(M.SENSORY_INPUT, \"x_observed\", lambda x: x)\n",
    "\n",
    "# motor command\n",
    "mep.add(\"u\", M.MOTOR_COMMAND, lambda u: u)\n",
    "\n",
    "# CPG setup\n",
    "mep.add(M.MOTOR_PERTURBATION, (), lambda: 0)\n",
    "mep.add(M.STATE_PERTURBATION, (), lambda: 0)\n",
    "\n",
    "# 2. Execution initialization\n",
    "#mod_exec = experiment_helpers.build_executor(mep, step_size)\n",
    "\n",
    "# 3. Running the model simulation which will be saved into \"results/msd_run.hdf5\"\n",
    "#experiment_helpers.run_executor(mod_exec, iterations, results_path, \"msd_run\")"
   ]
  },
  {
   "cell_type": "code",
   "execution_count": null,
   "id": "03066332",
   "metadata": {},
   "outputs": [],
   "source": []
  }
 ],
 "metadata": {
  "kernelspec": {
   "display_name": "Python 3 (ipykernel)",
   "language": "python",
   "name": "python3"
  },
  "language_info": {
   "codemirror_mode": {
    "name": "ipython",
    "version": 3
   },
   "file_extension": ".py",
   "mimetype": "text/x-python",
   "name": "python",
   "nbconvert_exporter": "python",
   "pygments_lexer": "ipython3",
   "version": "3.8.10"
  }
 },
 "nbformat": 4,
 "nbformat_minor": 5
}
